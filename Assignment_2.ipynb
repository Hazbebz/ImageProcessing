{
 "cells": [
  {
   "cell_type": "code",
   "execution_count": 1,
   "metadata": {
    "collapsed": true
   },
   "outputs": [
    {
     "ename": "error",
     "evalue": "OpenCV(4.5.4-dev) :-1: error: (-5:Bad argument) in function 'cvtColor'\n> Overload resolution failed:\n>  - src is not a numpy array, neither a scalar\n>  - Expected Ptr<cv::UMat> for argument 'src'\n",
     "output_type": "error",
     "traceback": [
      "\u001B[1;31m---------------------------------------------------------------------------\u001B[0m",
      "\u001B[1;31merror\u001B[0m                                     Traceback (most recent call last)",
      "\u001B[1;32mD:\\Users\\C17319~1\\AppData\\Local\\Temp/ipykernel_8352/1400361082.py\u001B[0m in \u001B[0;36m<module>\u001B[1;34m\u001B[0m\n\u001B[0;32m      4\u001B[0m \u001B[0mimage\u001B[0m \u001B[1;33m=\u001B[0m \u001B[0mcv2\u001B[0m\u001B[1;33m.\u001B[0m\u001B[0mimread\u001B[0m\u001B[1;33m(\u001B[0m\u001B[1;34m'Boss.bmp'\u001B[0m\u001B[1;33m)\u001B[0m\u001B[1;33m\u001B[0m\u001B[1;33m\u001B[0m\u001B[0m\n\u001B[0;32m      5\u001B[0m \u001B[1;33m\u001B[0m\u001B[0m\n\u001B[1;32m----> 6\u001B[1;33m \u001B[0mgray\u001B[0m \u001B[1;33m=\u001B[0m \u001B[0mcv2\u001B[0m\u001B[1;33m.\u001B[0m\u001B[0mcvtColor\u001B[0m\u001B[1;33m(\u001B[0m\u001B[0minput\u001B[0m\u001B[1;33m,\u001B[0m\u001B[0mimage\u001B[0m\u001B[1;33m,\u001B[0m \u001B[0mcv2\u001B[0m\u001B[1;33m.\u001B[0m\u001B[0mCOLOR_BGR2GRAY\u001B[0m\u001B[1;33m)\u001B[0m\u001B[1;33m\u001B[0m\u001B[1;33m\u001B[0m\u001B[0m\n\u001B[0m\u001B[0;32m      7\u001B[0m \u001B[1;33m\u001B[0m\u001B[0m\n\u001B[0;32m      8\u001B[0m \u001B[0mcv2\u001B[0m\u001B[1;33m.\u001B[0m\u001B[0mimshow\u001B[0m\u001B[1;33m(\u001B[0m\u001B[1;34m\"gray\"\u001B[0m\u001B[1;33m,\u001B[0m \u001B[0mgray\u001B[0m\u001B[1;33m)\u001B[0m\u001B[1;33m\u001B[0m\u001B[1;33m\u001B[0m\u001B[0m\n",
      "\u001B[1;31merror\u001B[0m: OpenCV(4.5.4-dev) :-1: error: (-5:Bad argument) in function 'cvtColor'\n> Overload resolution failed:\n>  - src is not a numpy array, neither a scalar\n>  - Expected Ptr<cv::UMat> for argument 'src'\n"
     ]
    }
   ],
   "source": [
    "\n",
    "import numpy as np\n",
    "import cv2\n",
    "\n",
    "image = cv2.imread('Boss.bmp')\n",
    "\n",
    "gray = cv2.cvtColor(image, cv2.COLOR_BGR2GRAY)\n",
    "\n",
    "cv2.imshow(\"gray\", gray)\n",
    "\n",
    "image = cv2.CvtColor(input, gray, cv2.COLORGRAY2BGR);\n",
    "\n",
    "#Clean up image by removing shadows\n",
    "planes = cv2.split(image)\n",
    "\n",
    "r_planes = []\n",
    "r_n_planes = []\n",
    "\n",
    "for plane in planes:\n",
    "    dilated_img = cv2.dilate(plane, np.ones((7,7), np.uint8))\n",
    "    bg_img = cv2.medianBlur(dilated_img, 21)\n",
    "    diff_img = 255 - cv2.absdiff(plane, bg_img)\n",
    "    norm_img = cv2.normalize(diff_img,None, alpha=0, beta=255, norm_type=cv2.NORM_MINMAX, dtype=cv2.CV_8UC1)\n",
    "    r_planes.append(diff_img)\n",
    "    r_n_planes.append(norm_img)\n",
    "\n",
    "result = cv2.merge(r_planes)\n",
    "result_norm = cv2.merge(r_n_planes)\n",
    "\n",
    "#output 2 shadow images for potential use\n",
    "cv2.imshow('shadows_out.png', result)\n",
    "cv2.imshow('shadows_out_norm.png', result_norm)\n",
    "\n",
    "\n",
    "result = result_norm.copy()\n",
    "\n",
    "\n",
    "image = cv2.cvtColor(result, cv2.COLOR_BGR2HSV)\n",
    "cv2.imshow(\"HSV\",image)\n",
    "lower = np.array([10, 28, 10])\n",
    "upper = np.array([145, 255, 255])\n",
    "mask = cv2.inRange(image, lower, upper)\n",
    "cv2.imshow(\"range mask\",mask)\n",
    "\n",
    "\n",
    "kernel = cv2.getStructuringElement(cv2.MORPH_RECT, (3,3))\n",
    "opening = cv2.morphologyEx(mask, cv2.MORPH_OPEN, kernel, iterations=1)\n",
    "close = cv2.morphologyEx(opening, cv2.MORPH_CLOSE, kernel, iterations=40)\n",
    "\n",
    "cnts = cv2.findContours(close, cv2.RETR_EXTERNAL, cv2.CHAIN_APPROX_SIMPLE)\n",
    "cnts = cnts[0] if len(cnts) == 2 else cnts[1]\n",
    "\n",
    "boxes = []\n",
    "for c in cnts:\n",
    "    (x, y, w, h) = cv2.boundingRect(c)\n",
    "    boxes.append([x,y, x+w,y+h])\n",
    "\n",
    "boxes = np.asarray(boxes)\n",
    "left = np.min(boxes[:,0])\n",
    "top = np.min(boxes[:,1])\n",
    "right = np.max(boxes[:,2])\n",
    "bottom = np.max(boxes[:,3])\n",
    "\n",
    "result[close==0] = (255,255,255)\n",
    "ROI = result[top:bottom, left:right].copy()\n",
    "cv2.rectangle(result, (left,top), (right,bottom), (36, 255, 12), 2)\n",
    "\n",
    "cv2.imshow('result', result)\n",
    "cv2.imshow('ROI', ROI)\n",
    "cv2.imshow('close', close)\n",
    "cv2.imwrite('result.png', result)\n",
    "cv2.imwrite('ROI.png', ROI)\n",
    "cv2.imwrite('ROI.png', ROI)\n",
    "\n",
    "cv2.waitKey(0)\n",
    "cv2.destroyAllWindows()"
   ]
  },
  {
   "cell_type": "code",
   "execution_count": null,
   "outputs": [],
   "source": [
    "\n"
   ],
   "metadata": {
    "collapsed": false,
    "pycharm": {
     "name": "#%%\n"
    }
   }
  }
 ],
 "metadata": {
  "kernelspec": {
   "display_name": "Python 3",
   "language": "python",
   "name": "python3"
  },
  "language_info": {
   "codemirror_mode": {
    "name": "ipython",
    "version": 2
   },
   "file_extension": ".py",
   "mimetype": "text/x-python",
   "name": "python",
   "nbconvert_exporter": "python",
   "pygments_lexer": "ipython2",
   "version": "2.7.6"
  }
 },
 "nbformat": 4,
 "nbformat_minor": 0
}