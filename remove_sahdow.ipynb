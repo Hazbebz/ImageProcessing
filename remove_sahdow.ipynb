{
 "cells": [
  {
   "cell_type": "code",
   "execution_count": 1,
   "metadata": {
    "collapsed": true
   },
   "outputs": [],
   "source": [
    "import numpy as np\n",
    "import cv2\n",
    "\n",
    "image = cv2.imread(\"Boss.bmp\")\n",
    "cv2.imshow(\"original\", image)\n",
    "\n",
    "planes = cv2.split(image)\n",
    "\n",
    "r_planes = []\n",
    "r_n_planes = []\n",
    "\n",
    "for plane in planes:\n",
    "    dilated_img = cv2.dilate(plane, np.ones((7,7), np.uint8))\n",
    "    bg_img = cv2.medianBlur(dilated_img, 21)\n",
    "    diff_img = 255 - cv2.absdiff(plane, bg_img)\n",
    "    norm_img = cv2.normalize(diff_img,None, alpha=0, beta=255, norm_type=cv2.NORM_MINMAX, dtype=cv2.CV_8UC1)\n",
    "    r_planes.append(diff_img)\n",
    "    r_n_planes.append(norm_img)\n",
    "\n",
    "result = cv2.merge(r_planes)\n",
    "result_norm = cv2.merge(r_n_planes)\n",
    "\n",
    "cv2.imshow('shadows_out.png', result)\n",
    "cv2.imshow('shadows_out_norm.png', result_norm)\n",
    "\n",
    "gray = cv2.cvtColor(result_norm, cv2.COLOR_BGR2GRAY)\n",
    "\n",
    "cv2.imshow(\"gray\", gray)\n",
    "\n",
    "cv2.waitKey(0)\n",
    "cv2.destroyAllWindows()\n"
   ]
  }
 ],
 "metadata": {
  "kernelspec": {
   "display_name": "Python 3",
   "language": "python",
   "name": "python3"
  },
  "language_info": {
   "codemirror_mode": {
    "name": "ipython",
    "version": 2
   },
   "file_extension": ".py",
   "mimetype": "text/x-python",
   "name": "python",
   "nbconvert_exporter": "python",
   "pygments_lexer": "ipython2",
   "version": "2.7.6"
  }
 },
 "nbformat": 4,
 "nbformat_minor": 0
}